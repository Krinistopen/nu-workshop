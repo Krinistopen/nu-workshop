{
 "cells": [
  {
   "cell_type": "markdown",
   "id": "941e6005-11dc-4534-910b-4f036898a184",
   "metadata": {},
   "source": [
    "### Решаем задачу автоматической проверки свободных ответов учеников на тестовые задания с помощью векторов и линейного классификатора\n",
    "\n",
    "Пример тестового задания есть на картинке в репозитории."
   ]
  },
  {
   "cell_type": "code",
   "execution_count": null,
   "id": "ec0c117b-1ca1-4473-81a9-e641c70279ec",
   "metadata": {},
   "outputs": [],
   "source": [
    "# Для начала необходимо обновить установщик пакетов pip\n",
    "!pip install --upgrade pip"
   ]
  },
  {
   "cell_type": "code",
   "execution_count": null,
   "id": "6121d2ab-1157-433f-a37e-b8ea1f476261",
   "metadata": {},
   "outputs": [],
   "source": [
    "# Устанавливаем необходимые библиотеки\n",
    "!pip install tensorflow-hub==0.16.1, tensorflow==2.18.1, tensorflow-text==2.18.1"
   ]
  },
  {
   "cell_type": "code",
   "execution_count": null,
   "id": "3b47cc2b-9b23-441f-bdf3-f395359c80cb",
   "metadata": {},
   "outputs": [],
   "source": [
    "import tensorflow_hub as hub\n",
    "import tensorflow as tf\n",
    "import numpy as np\n",
    "import tensorflow_text\n",
    "import pandas as pd\n",
    "\n",
    "from sklearn.naive_bayes import GaussianNB, BernoulliNB\n",
    "from sklearn.svm import SVC\n",
    "from sklearn.linear_model import LogisticRegressionCV\n",
    "from sklearn.model_selection import train_test_split\n",
    "from sklearn.metrics import precision_recall_fscore_support as prfs"
   ]
  },
  {
   "cell_type": "code",
   "execution_count": null,
   "id": "c9232519-d47c-4090-8c3d-f3eb816bd160",
   "metadata": {},
   "outputs": [],
   "source": [
    "embed = hub.load(\"https://www.kaggle.com/models/google/universal-sentence-encoder/TensorFlow2/multilingual/2\")"
   ]
  },
  {
   "cell_type": "code",
   "execution_count": null,
   "id": "3e74def7-c8b1-4d75-b973-acf3c644131c",
   "metadata": {},
   "outputs": [],
   "source": []
  }
 ],
 "metadata": {
  "kernelspec": {
   "display_name": "Python 3 (ipykernel)",
   "language": "python",
   "name": "python3"
  },
  "language_info": {
   "codemirror_mode": {
    "name": "ipython",
    "version": 3
   },
   "file_extension": ".py",
   "mimetype": "text/x-python",
   "name": "python",
   "nbconvert_exporter": "python",
   "pygments_lexer": "ipython3",
   "version": "3.10.10"
  }
 },
 "nbformat": 4,
 "nbformat_minor": 5
}
