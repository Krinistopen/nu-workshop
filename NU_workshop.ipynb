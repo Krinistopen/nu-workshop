{
 "cells": [
  {
   "cell_type": "markdown",
   "id": "941e6005-11dc-4534-910b-4f036898a184",
   "metadata": {},
   "source": [
    "### Попробуем обучить модель проверять свободные ответы школьников на тестовые задания\n",
    "\n",
    "Будем решать задачу с помощью семантических векторов и линейного классификатора.\n",
    "Пример тестового задания есть на картинке в репозитории."
   ]
  },
  {
   "cell_type": "code",
   "execution_count": null,
   "id": "ec0c117b-1ca1-4473-81a9-e641c70279ec",
   "metadata": {},
   "outputs": [],
   "source": [
    "# Для начала необходимо обновить установщик пакетов pip\n",
    "!pip install --upgrade pip"
   ]
  },
  {
   "cell_type": "code",
   "execution_count": null,
   "id": "6121d2ab-1157-433f-a37e-b8ea1f476261",
   "metadata": {},
   "outputs": [],
   "source": [
    "# Устанавливаем необходимые библиотеки\n",
    "!pip install tensorflow-hub==0.16.1, tensorflow==2.18.1, tensorflow-text==2.18.1, psycopg2-binary"
   ]
  },
  {
   "cell_type": "markdown",
   "id": "2ad62e97-a439-4115-8a1d-f504adf52aab",
   "metadata": {},
   "source": [
    "Теперь необходимо перезагрузить kernel, чтобы JupyterHub увидел все изменения в составе библиотек. Нажмите круговую стрелку в верхнем меню этого ноутбука или зайдите в меню Kernel -> Restart Kernel and Clear Outputs of All Cells... Так ноутбук будет выглядеть опрятнее."
   ]
  },
  {
   "cell_type": "code",
   "execution_count": null,
   "id": "3b47cc2b-9b23-441f-bdf3-f395359c80cb",
   "metadata": {},
   "outputs": [],
   "source": [
    "# Загружаем необходимые библиотеки\n",
    "import mlflow\n",
    "import mlflow.sklearn\n",
    "\n",
    "import numpy as np\n",
    "import pandas as pd\n",
    "import psycopg2\n",
    "\n",
    "import tensorflow as tf\n",
    "import tensorflow_hub as hub\n",
    "import tensorflow_text\n",
    "\n",
    "from sklearn.naive_bayes import GaussianNB, BernoulliNB\n",
    "from sklearn.svm import SVC\n",
    "from sklearn.linear_model import LogisticRegressionCV\n",
    "from sklearn.model_selection import train_test_split\n",
    "from sklearn.metrics import precision_recall_fscore_support as prfs"
   ]
  },
  {
   "cell_type": "code",
   "execution_count": null,
   "id": "c9232519-d47c-4090-8c3d-f3eb816bd160",
   "metadata": {},
   "outputs": [],
   "source": [
    "# Загружаем модель Universal Sentence Encoder для векторизации текстов\n",
    "embed = hub.load(\"https://www.kaggle.com/models/google/universal-sentence-encoder/TensorFlow2/multilingual/2\")"
   ]
  },
  {
   "cell_type": "code",
   "execution_count": null,
   "id": "78a82de2-6487-4085-882c-da2218e8a604",
   "metadata": {},
   "outputs": [],
   "source": [
    "# Подключаемся к БД, используя ее внутренний ip, и вычитываем данные из таблицы в переменную\n",
    "connection = psycopg2.connect(database=\"kd_pg_nu\", user=\"admin\", password=\"732n0j2P(hD4dB12n\", host=\"10.0.0.137\", port=5432)\n",
    "cursor = connection.cursor()\n",
    "cursor.execute(\"SELECT * from public.dataset;\")\n",
    "dataset = cursor.fetchall()"
   ]
  },
  {
   "cell_type": "code",
   "execution_count": null,
   "id": "48971eb9-e0a8-4a36-850c-ec53374b6127",
   "metadata": {},
   "outputs": [],
   "source": [
    "# Посмотрим на данные\n",
    "dataset[:5]"
   ]
  },
  {
   "cell_type": "code",
   "execution_count": null,
   "id": "1618125f-872a-4511-824e-d4c55777b0d7",
   "metadata": {},
   "outputs": [],
   "source": [
    "# Преобразуем датасет в формат pandas DataFrame, чтобы с ним было удобнее работать\n",
    "text = []\n",
    "mark = []\n",
    "ID = []\n",
    "\n",
    "for row in dataset:\n",
    "    text.append(row[0])\n",
    "    mark.append(row[1])\n",
    "    ID.append(row[2])\n",
    "\n",
    "data = {'text': text, 'mark': mark, 'id': ID}\n",
    "data = pd.DataFrame(data)"
   ]
  },
  {
   "cell_type": "code",
   "execution_count": null,
   "id": "aec237be-d42e-4554-9254-99669c0e7237",
   "metadata": {},
   "outputs": [],
   "source": [
    "# Посмотрим на данные\n",
    "data.head() "
   ]
  },
  {
   "cell_type": "code",
   "execution_count": null,
   "id": "3e74def7-c8b1-4d75-b973-acf3c644131c",
   "metadata": {},
   "outputs": [],
   "source": [
    "# Запишем названия нужных колонок в переменные, это пригодится дальше\n",
    "text_var = 'text'\n",
    "class_var = 'mark'"
   ]
  },
  {
   "cell_type": "code",
   "execution_count": null,
   "id": "234241cc-aa79-4418-82e5-e95dc65f3f8f",
   "metadata": {},
   "outputs": [],
   "source": [
    "# Посмотрим на распреление оценок в датасете\n",
    "df = data[class_var].value_counts(normalize=True) * 100\n",
    "df.plot.bar(x=class_var)"
   ]
  },
  {
   "cell_type": "markdown",
   "id": "872236a1-2ee9-490c-a848-9a046a2b43f0",
   "metadata": {},
   "source": [
    "В данном задании оценка ставится по трехбалльной шкале:\n",
    "- 0 баллов за неправильный ответ\n",
    "- 1 балл за правильный ответ\n",
    "- 2 балла за правильный ответ и правильное объяснение своего ответа\n",
    "\n",
    "Оценка -1 ставится за отсутствие ответа, и бессмысленный набор символов. Такие случаи проще ловить отдельным кодом и не использовать их для обучения модели."
   ]
  },
  {
   "cell_type": "code",
   "execution_count": null,
   "id": "6b010c11-c34d-4558-807f-b515151ecc87",
   "metadata": {},
   "outputs": [],
   "source": [
    "# Исключаем из датасета ответы с оценкой -1\n",
    "data = data[(data[class_var] != -1)]"
   ]
  },
  {
   "cell_type": "markdown",
   "id": "69e8ebb8-1518-4ab3-9440-d4b03c3d053c",
   "metadata": {},
   "source": [
    "В датасете осталось три оценки: 0,1 и 2 балла. Для нас это значит, что надо решить задачу классификации на 3 класса.\n",
    "\n",
    "Эту задачу можно решать напрямую, а можно поэтапно. Ответы на 1 балл и на 2 балла очень похожи, поэтому будет сложно обучить модель сразу оценивать ответы по трехбалльной шкале. Давайте двигаться поэтапно и сначала научим модель отличать точно неправильные ответы от сколько-нибудь правильных."
   ]
  },
  {
   "cell_type": "code",
   "execution_count": null,
   "id": "e9eda488-9f10-43f6-b91c-e6b7e4197bbd",
   "metadata": {},
   "outputs": [],
   "source": [
    "# Превращаем оценку 2 в 1, чтобы оставить только два класса\n",
    "marks_new = []\n",
    "for i, mark in enumerate(data[class_var]):\n",
    "    if mark == 2:\n",
    "        marks_new.append(1)\n",
    "    else:\n",
    "        marks_new.append(mark)\n",
    "class_var = 'class_new'\n",
    "data[class_var] = marks_new\n",
    "del marks_new"
   ]
  },
  {
   "cell_type": "markdown",
   "id": "5b92d794-f6bd-49fb-94ca-552efcdc39dc",
   "metadata": {},
   "source": [
    "До этого мы занимались извлечением и подготовкой данных, то есть можно сказать занимались дата-инжинирингом. Дальше начинается раздел дата-сайенс, мы будем заниматься машинным обучением.\n",
    "\n",
    "Нельзя просто взять и обучить модель. Нужно подобрать тип модели и нужные параметры к ней. Это всегда множество экспериментов, результаты которых нужно сохранять, чтобы потом выбрать лучший. За это отвечает модуль MLFlow, который в следующей ячейке мы и запустим."
   ]
  },
  {
   "cell_type": "code",
   "execution_count": null,
   "id": "463371e0-dc6d-4fd3-80bd-f8e8a09b04d6",
   "metadata": {},
   "outputs": [],
   "source": [
    "# Запускаем логирование эксперимента\n",
    "mlflow.set_experiment(\"Auto_logging\")\n",
    "mlflow.sklearn.autolog(log_input_examples=True)\n",
    "mlflow.start_run()"
   ]
  },
  {
   "cell_type": "code",
   "execution_count": null,
   "id": "1ed2cfc6-38be-47ec-bba7-cf7178dc3136",
   "metadata": {},
   "outputs": [],
   "source": [
    "# Устанавливаем размер обучающей выборки в процентах\n",
    "train_vol = 0.7"
   ]
  },
  {
   "cell_type": "code",
   "execution_count": null,
   "id": "f2fc5e44-8083-490e-9ad1-a8048b7ab150",
   "metadata": {},
   "outputs": [],
   "source": [
    "# Делим датасет на обучающую и тестовую выборки. Из обучающей выборки удаляем дубликаты ответов\n",
    "train, test = train_test_split(data, train_size = train_vol, random_state = 99, stratify = data[class_var])\n",
    "train = train.drop_duplicates(subset=[text_var])"
   ]
  },
  {
   "cell_type": "code",
   "execution_count": null,
   "id": "fdb3b2ed-2065-45df-ad46-a293db851077",
   "metadata": {},
   "outputs": [],
   "source": [
    "# Из тестовой выборки удаляем все ответы, которые есть в обучающей\n",
    "check = []\n",
    "train_data = train[text_var].tolist()\n",
    "for text in test[text_var]:\n",
    "    if text not in train_data:\n",
    "        check.append('KEEP')\n",
    "    else:\n",
    "        check.append('IGNORE')\n",
    "test['check'] = check\n",
    "test = test.loc[test['check'] == 'KEEP']\n",
    "test = test.drop(['check'], axis=1)\n",
    "del check"
   ]
  },
  {
   "cell_type": "code",
   "execution_count": null,
   "id": "029254c5-ea0e-4844-a417-faa322282f0c",
   "metadata": {},
   "outputs": [],
   "source": [
    "# Переводим все ответы из обучающей выборки в семантические вектора\n",
    "train_embeddings = []\n",
    "for text in train_data:\n",
    "    embedding = embed(str(text))[0]\n",
    "    train_embeddings.append(embedding)\n",
    "\n",
    "train_embeddings = np.array(train_embeddings)"
   ]
  },
  {
   "cell_type": "code",
   "execution_count": null,
   "id": "51fa50ea-c763-4992-bcd2-6965e5465d8c",
   "metadata": {},
   "outputs": [],
   "source": [
    "# Переводим все ответы из тестовой выборки в вектора\n",
    "test_embeddings = []\n",
    "for text in test[text_var]:\n",
    "    embedding = embed(str(text))[0]\n",
    "    test_embeddings.append(embedding)\n",
    "\n",
    "test_embeddings = np.array(test_embeddings)"
   ]
  },
  {
   "cell_type": "code",
   "execution_count": null,
   "id": "ed55ffc8-f98b-4938-800d-91a88735cc66",
   "metadata": {},
   "outputs": [],
   "source": [
    "# Инициализируем классификатор с некоторыми параметрами\n",
    "svm = SVC(kernel='poly', gamma='scale', probability=True)"
   ]
  },
  {
   "cell_type": "code",
   "execution_count": null,
   "id": "9c525680-b317-436c-908f-2a9b37bc84a6",
   "metadata": {},
   "outputs": [],
   "source": [
    "# Получаем список оценок из обучающей и тестовой выборок\n",
    "classes = np.array(train[class_var])\n",
    "classes_to_check = np.array(test[class_var])"
   ]
  },
  {
   "cell_type": "code",
   "execution_count": null,
   "id": "9c611bd4-9f6e-495a-8fb7-94297654f985",
   "metadata": {},
   "outputs": [],
   "source": [
    "# Обучаем классификатор\n",
    "svm.fit(train_embeddings,classes)"
   ]
  },
  {
   "cell_type": "code",
   "execution_count": null,
   "id": "7ba5062a-b523-47ea-932a-26f0344f24a4",
   "metadata": {},
   "outputs": [],
   "source": [
    "# Применяем модель к тестовой выборке\n",
    "classesSVM = svm.predict(test_embeddings)"
   ]
  },
  {
   "cell_type": "code",
   "execution_count": null,
   "id": "c03e37f5-b87b-4209-b7a7-6dd5f9b09920",
   "metadata": {},
   "outputs": [],
   "source": [
    "# Получаем точность, полноту и ф-меру для класса 0 (неправильные ответы)\n",
    "metrics = prfs(classes_to_check, classesSVM, pos_label = 0, average = 'binary')"
   ]
  },
  {
   "cell_type": "code",
   "execution_count": null,
   "id": "55a44ec7-2100-4a0c-83a4-2b46089e8c7c",
   "metadata": {},
   "outputs": [],
   "source": [
    "print('Precision: ', metrics[0])\n",
    "print('Recall: ', metrics[1])\n",
    "print('F-Score: ', metrics[2])"
   ]
  },
  {
   "cell_type": "markdown",
   "id": "b53f760a-65b8-4d7a-a9b0-23b915848564",
   "metadata": {},
   "source": [
    "Видно, что модель научилась очень качественно определять неправильные ответы. Обратите внимание, для этого не нужны LLM и GPU. Можно закончить эксперимент и залогировать результаты."
   ]
  },
  {
   "cell_type": "code",
   "execution_count": null,
   "id": "a1fb7cea-a734-45b3-a9b4-0b0b8fa83e14",
   "metadata": {},
   "outputs": [],
   "source": [
    "# Заканчиваем эксперимент, логируем результаты и регистрируем версию модели\n",
    "mlflow.sklearn.log_model(svm, \"model\", registered_model_name=\"Test-evaluation\")\n",
    "mlflow.end_run()"
   ]
  },
  {
   "cell_type": "markdown",
   "id": "65d2d23d-feda-431d-a883-04e57d7f48da",
   "metadata": {},
   "source": [
    "На этом закончилась часть дата-сайенс, мы обучили модель и сохранили необходимые артефакты. Далее мы попробуем себя в роли DevOps-инженеров и развернем нашу обученную модель как сервис, доступный для внешних пользователей."
   ]
  },
  {
   "cell_type": "code",
   "execution_count": null,
   "id": "29394e81-5d19-4d32-b9d0-8d58182eb37c",
   "metadata": {},
   "outputs": [],
   "source": [
    "# Создаем экземпляр класса MlflowClient. Это необходимый компонент для развертывания сервиса\n",
    "from mlflow.tracking import MlflowClient\n",
    "cli = MlflowClient()"
   ]
  },
  {
   "cell_type": "code",
   "execution_count": null,
   "id": "9c29bd2f-1a51-4ec0-988d-90e46f93eafb",
   "metadata": {},
   "outputs": [],
   "source": [
    "# Берем для деплоя самую первую (и пока единственную) зарегистрированную модель\n",
    "model_source_uri = cli.search_registered_models()[0].latest_versions[0].source\n",
    "print(\"Имя модели: \", cli.search_registered_models()[0].latest_versions[0].name)\n",
    "print(\"URI модели: \", model_source_uri)"
   ]
  },
  {
   "cell_type": "code",
   "execution_count": null,
   "id": "8756ba9a-d080-440c-b7f7-0b8e52fbd193",
   "metadata": {},
   "outputs": [],
   "source": [
    "# Так можно получить список всех моделей и вывести их с сортировкой по имени\n",
    "results = cli.search_registered_models(order_by=[\"name ASC\"])\n",
    "print(\"-\" * 80)\n",
    "for res in results:\n",
    "    for mv in res.latest_versions:\n",
    "        print(\"name={}; run_id={}; version={}; source={};\".format(mv.name, mv.run_id, mv.version, mv.source))"
   ]
  },
  {
   "cell_type": "code",
   "execution_count": null,
   "id": "5480e375-5976-4815-97ee-3392a537cc3c",
   "metadata": {},
   "outputs": [],
   "source": [
    "# Создаем экземпляр класса Client для работы в VK Cloud ML Platform\n",
    "from mlflow.deployments import get_deploy_client\n",
    "client = get_deploy_client('vk-cloud-mlplatform')"
   ]
  },
  {
   "cell_type": "markdown",
   "id": "8f76dd5c-2610-4090-874b-6c289829e5f8",
   "metadata": {},
   "source": [
    "endpoint в терминологии VK Cloud MLflow Deploy - это деплой сервер. Отдельная машина на которой непосредственно разворачивается контейнер с моделью."
   ]
  },
  {
   "cell_type": "code",
   "execution_count": null,
   "id": "d1c4d814-676a-4308-8b15-67747090d916",
   "metadata": {},
   "outputs": [],
   "source": [
    "# Создаем эндпоинт. Создание обычно занимает 5-10 минут\n",
    "deploy_server_name = \"deploy_server\"\n",
    "client.create_endpoint(name=deploy_server_name)"
   ]
  },
  {
   "cell_type": "code",
   "execution_count": null,
   "id": "912d6f3e-72f8-4cf0-9ad4-66c001881a6e",
   "metadata": {},
   "outputs": [],
   "source": [
    "# Получаем информацию о статусе деплой сервера по его имени\n",
    "client.get_endpoint(deploy_server_name)"
   ]
  },
  {
   "cell_type": "code",
   "execution_count": null,
   "id": "8549e90e-cc6b-47a6-88a4-598d18a9b091",
   "metadata": {},
   "outputs": [],
   "source": [
    "# Удаляем деплой сервер, если необходимо. Пока пропускаем эту ячейку\n",
    "#client.delete_endpoint(deploy_server_name)"
   ]
  },
  {
   "cell_type": "code",
   "execution_count": null,
   "id": "a1398e14-b292-4e9e-b1fd-e5e929976523",
   "metadata": {},
   "outputs": [],
   "source": [
    "# Создаем deployment - запущеный докер с моделью на сервере. Создание занимает примерно 10 минут\n",
    "deployment_name=\"test_deployment\"\n",
    "client.create_deployment(server_name=deploy_server_name, deployment_name=deployment_name, model_uri=model_source_uri)"
   ]
  },
  {
   "cell_type": "code",
   "execution_count": null,
   "id": "8ef0c26f-4171-4c43-b1fd-64ba817584ac",
   "metadata": {},
   "outputs": [],
   "source": [
    "# Получаем статус и информацию о задеплоенной модели по имени деплой сервера и модели\n",
    "client.get_deployment(deploy_server_name, deployment_name)"
   ]
  },
  {
   "cell_type": "code",
   "execution_count": null,
   "id": "cb90dfb1-9187-4fdc-9796-f1cee8e3852a",
   "metadata": {},
   "outputs": [],
   "source": [
    "# Удаляем deployment с сервера, обращаясь по имени сервера и deployment. Пока пропускаем эту ячейку\n",
    "#client.delete_deployment(deploy_server_name, deployment_name)"
   ]
  },
  {
   "cell_type": "markdown",
   "id": "cfa1475d-f080-418a-aa0c-941347348526",
   "metadata": {},
   "source": [
    "Наша модель развернута на сервере MLFlow Deploy и готова к работе, ура! Давайте попробуем обратиться к ней. Для этого напишем один правильный ответ и один неправильный ответ на тестовое задание, получим вектора этих ответов и отправим на оценку модели."
   ]
  },
  {
   "cell_type": "code",
   "execution_count": null,
   "id": "ddf0ac75-fcc8-4dcc-ac8a-fd3b52ccecc0",
   "metadata": {},
   "outputs": [],
   "source": [
    "wrong = 'Движение машины по дороге, потому что она едет быстро'\n",
    "right = 'Скисание молока в теплой комнате, потому что происходит превращение вещества'\n",
    "\n",
    "inputs = [embed(wrong)[0].numpy().tolist(), embed(right)[0].numpy().tolist()]"
   ]
  },
  {
   "cell_type": "code",
   "execution_count": null,
   "id": "5c3fd037-eac9-4f75-8cc6-6d0a5a5ae2ce",
   "metadata": {},
   "outputs": [],
   "source": [
    "# Вызываем метод predict для проверки доступности модели\n",
    "data = {\"inputs\": inputs}\n",
    "client.predict(deploy_server_name, deployment_name, data)"
   ]
  },
  {
   "cell_type": "markdown",
   "id": "cee73739-6ea2-492d-abc4-14960e81d6d8",
   "metadata": {},
   "source": [
    "Также можно создать deployment, который будет доступен по публичному DNS имени, то есть к которому можно обращаться из вне облака. Например с вашей локальной машины. Для доступа к модели нужно будет указать логин и пароль, то есть внешний пользователь не сможет делать запросы к модели без авторизации\n",
    "\n",
    "Обязательно замените имя пользователя и пароль на новые. Имя пользователя и пароль рекомендуется задавать отличное от логина/пароля для входа в облако или в JupyterHub."
   ]
  },
  {
   "cell_type": "code",
   "execution_count": null,
   "id": "786a8d07-ede9-4b12-ab45-e065493c5893",
   "metadata": {},
   "outputs": [],
   "source": [
    "auth_value = \"user:PasswordDA@dvv//!123$\"\n",
    "auth_deployment_name = \"test_deploy_auth\"\n",
    "client.create_deployment(deploy_server_name, auth_deployment_name, model_source_uri, auth=auth_value)"
   ]
  },
  {
   "cell_type": "code",
   "execution_count": null,
   "id": "89a9e075-bb3b-4e26-acd0-a3f5d4c9cd82",
   "metadata": {},
   "outputs": [],
   "source": [
    "# Получаем статус и информацию о задеплоенной модели\n",
    "deployment_info = client.get_deployment(deploy_server_name, auth_deployment_name)\n",
    "print(deployment_info)\n",
    "\n",
    "# Получаем DNS имя для обращения к модели\n",
    "print(deployment_info['model_ref'])"
   ]
  },
  {
   "cell_type": "code",
   "execution_count": null,
   "id": "cfe46a32-030b-441c-8c5c-dd6ac0c4c4a7",
   "metadata": {},
   "outputs": [],
   "source": [
    "# Отправляем запрос с помощью requests. \n",
    "# Обратите внимание, в запросе нужно передать данные для авторизации\n",
    "\n",
    "import requests\n",
    "data = {\"inputs\": inputs}\n",
    "response = requests.post('', json=data, auth=(\"user\", \"PasswordDA@dvv//!123$\"))\n",
    "\n",
    "print(response.text)"
   ]
  }
 ],
 "metadata": {
  "kernelspec": {
   "display_name": "Python 3 (ipykernel)",
   "language": "python",
   "name": "python3"
  },
  "language_info": {
   "codemirror_mode": {
    "name": "ipython",
    "version": 3
   },
   "file_extension": ".py",
   "mimetype": "text/x-python",
   "name": "python",
   "nbconvert_exporter": "python",
   "pygments_lexer": "ipython3",
   "version": "3.10.10"
  }
 },
 "nbformat": 4,
 "nbformat_minor": 5
}
